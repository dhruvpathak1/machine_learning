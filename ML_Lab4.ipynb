{
  "nbformat": 4,
  "nbformat_minor": 0,
  "metadata": {
    "colab": {
      "name": "ML_Lab4.ipynb",
      "provenance": [],
      "collapsed_sections": [],
      "authorship_tag": "ABX9TyN26UO/NnMjVuzCCOoD3cFB",
      "include_colab_link": true
    },
    "kernelspec": {
      "name": "python3",
      "display_name": "Python 3"
    },
    "language_info": {
      "name": "python"
    }
  },
  "cells": [
    {
      "cell_type": "markdown",
      "metadata": {
        "id": "view-in-github",
        "colab_type": "text"
      },
      "source": [
        "<a href=\"https://colab.research.google.com/github/dhruvpathak1/machine_learning/blob/main/ML_Lab4.ipynb\" target=\"_parent\"><img src=\"https://colab.research.google.com/assets/colab-badge.svg\" alt=\"Open In Colab\"/></a>"
      ]
    },
    {
      "cell_type": "code",
      "metadata": {
        "id": "hke-ErPLyXaM"
      },
      "source": [
        "import numpy as np\n",
        "import matplotlib\n",
        "import sklearn\n",
        "import matplotlib.pyplot as plt\n",
        "import pandas as pd\n",
        "from sklearn import datasets\n",
        "\n",
        "data = pd.read_csv(\"https://raw.githubusercontent.com/dhruvpathak1/machine_learning/main/fish_weighs.csv\")"
      ],
      "execution_count": 1,
      "outputs": []
    },
    {
      "cell_type": "code",
      "metadata": {
        "colab": {
          "base_uri": "https://localhost:8080/"
        },
        "id": "DnLzFe7ZzhoX",
        "outputId": "27f1d98a-b96f-463a-b1e8-50ba507b1826"
      },
      "source": [
        "data.shape"
      ],
      "execution_count": 2,
      "outputs": [
        {
          "output_type": "execute_result",
          "data": {
            "text/plain": [
              "(159, 7)"
            ]
          },
          "metadata": {},
          "execution_count": 2
        }
      ]
    },
    {
      "cell_type": "code",
      "metadata": {
        "colab": {
          "base_uri": "https://localhost:8080/"
        },
        "id": "oiRL3xNGzp9L",
        "outputId": "4fc90860-c280-41bd-efbd-7ed0ac9c7a5c"
      },
      "source": [
        "data.info()"
      ],
      "execution_count": 3,
      "outputs": [
        {
          "output_type": "stream",
          "text": [
            "<class 'pandas.core.frame.DataFrame'>\n",
            "RangeIndex: 159 entries, 0 to 158\n",
            "Data columns (total 7 columns):\n",
            " #   Column   Non-Null Count  Dtype  \n",
            "---  ------   --------------  -----  \n",
            " 0   Species  159 non-null    object \n",
            " 1   Weight   159 non-null    float64\n",
            " 2   Length1  159 non-null    float64\n",
            " 3   Length2  159 non-null    float64\n",
            " 4   Length3  159 non-null    float64\n",
            " 5   Height   159 non-null    float64\n",
            " 6   Width    159 non-null    float64\n",
            "dtypes: float64(6), object(1)\n",
            "memory usage: 8.8+ KB\n"
          ],
          "name": "stdout"
        }
      ]
    },
    {
      "cell_type": "code",
      "metadata": {
        "colab": {
          "base_uri": "https://localhost:8080/"
        },
        "id": "Xo6YL9L8zvKO",
        "outputId": "0b3c76cb-2782-4923-a4bc-d03e527fc335"
      },
      "source": [
        "from sklearn.linear_model import LinearRegression\n",
        "lm = LinearRegression()\n",
        "lm"
      ],
      "execution_count": 4,
      "outputs": [
        {
          "output_type": "execute_result",
          "data": {
            "text/plain": [
              "LinearRegression(copy_X=True, fit_intercept=True, n_jobs=None, normalize=False)"
            ]
          },
          "metadata": {},
          "execution_count": 4
        }
      ]
    },
    {
      "cell_type": "code",
      "metadata": {
        "colab": {
          "base_uri": "https://localhost:8080/"
        },
        "id": "3HY9n7SPz4Zg",
        "outputId": "e8722c57-388c-4458-8cc6-98ff56db70d5"
      },
      "source": [
        "X = data[['Length1']]\n",
        "Y = data['Weight']\n",
        "# fit the linear model using MIN\n",
        "lm.fit(X,Y)\n",
        "# training data is passed to fit method"
      ],
      "execution_count": 6,
      "outputs": [
        {
          "output_type": "execute_result",
          "data": {
            "text/plain": [
              "LinearRegression(copy_X=True, fit_intercept=True, n_jobs=None, normalize=False)"
            ]
          },
          "metadata": {},
          "execution_count": 6
        }
      ]
    },
    {
      "cell_type": "code",
      "metadata": {
        "colab": {
          "base_uri": "https://localhost:8080/"
        },
        "id": "38djvYcX0IgZ",
        "outputId": "7bd2e22a-4d57-4379-ff60-a93bd062a2cf"
      },
      "source": [
        "Yhat=lm.predict(X)\n",
        "Yhat[0:10]"
      ],
      "execution_count": 8,
      "outputs": [
        {
          "output_type": "execute_result",
          "data": {
            "text/plain": [
              "array([298.40312322, 324.63685434, 321.35763795, 400.0588313 ,\n",
              "       406.61726408, 416.45491325, 416.45491325, 442.68864436,\n",
              "       442.68864436, 472.20159187])"
            ]
          },
          "metadata": {},
          "execution_count": 8
        }
      ]
    },
    {
      "cell_type": "code",
      "metadata": {
        "colab": {
          "base_uri": "https://localhost:8080/",
          "height": 279
        },
        "id": "NtZkIAc-0MnJ",
        "outputId": "f90e2de4-f4a9-4b69-ad25-78423d90e5e1"
      },
      "source": [
        "# plot regression model\n",
        "plt.scatter(data['Length1'],Y)\n",
        "# X,Y\n",
        "plt.plot(data['Length1'],Yhat,color='red')\n",
        "plt.xlabel('Length1')\n",
        "plt.ylabel('Weight')\n",
        "plt.show()"
      ],
      "execution_count": 10,
      "outputs": [
        {
          "output_type": "display_data",
          "data": {
            "image/png": "[encoded data removed]",
            "text/plain": [
              "<Figure size 432x288 with 1 Axes>"
            ]
          },
          "metadata": {
            "needs_background": "light"
          }
        }
      ]
    },
    {
      "cell_type": "code",
      "metadata": {
        "colab": {
          "base_uri": "https://localhost:8080/"
        },
        "id": "nvHZkTkX0X-k",
        "outputId": "a1f7b7a9-4551-48b9-9cc0-2449a613d2c5"
      },
      "source": [
        "print(lm.intercept_)\n",
        "print(lm.coef_)"
      ],
      "execution_count": 12,
      "outputs": [
        {
          "output_type": "stream",
          "text": [
            "-462.37507915831395\n",
            "[32.7921639]\n"
          ],
          "name": "stdout"
        }
      ]
    },
    {
      "cell_type": "code",
      "metadata": {
        "colab": {
          "base_uri": "https://localhost:8080/"
        },
        "id": "H8o4sBKd49Dw",
        "outputId": "a905e67c-ea45-42be-886b-02846c22b5f1"
      },
      "source": [
        "from sklearn.metrics import mean_squared_error, r2_score\n",
        "\n",
        "# model evaluation\n",
        "rmse = mean_squared_error(Y, Yhat)\n",
        "r2 = r2_score(Y, Yhat)\n",
        "\n",
        "print('Root mean squared error: ', rmse)\n",
        "print('R2 score: ', r2)"
      ],
      "execution_count": 13,
      "outputs": [
        {
          "output_type": "stream",
          "text": [
            "Root mean squared error:  20562.256518291095\n",
            "R2 score:  0.8385279468768119\n"
          ],
          "name": "stdout"
        }
      ]
    },
    {
      "cell_type": "code",
      "metadata": {
        "id": "-bzlHeOr-y2d"
      },
      "source": [
        "X=X.iloc[:,0] "
      ],
      "execution_count": 14,
      "outputs": []
    },
    {
      "cell_type": "code",
      "metadata": {
        "colab": {
          "base_uri": "https://localhost:8080/"
        },
        "id": "DxrLkErI1ohp",
        "outputId": "bbeac065-9b6d-47f3-a6f1-4cdc9ef34e09"
      },
      "source": [
        "# Building the model\n",
        "m = 0\n",
        "c = 0\n",
        "\n",
        "L = 0.0001  # The learning Rate\n",
        "epochs = 1000  # The number of iterations to perform gradient descent\n",
        "\n",
        "n = float(len(X)) # Number of elements in X\n",
        "\n",
        "# Performing Gradient Descent \n",
        "for i in range(epochs): \n",
        "    Y_pred = m*X + c  # The current predicted value of Y\n",
        "    D_m = (-2/n) * sum(X * (Y - Y_pred))  # Derivative wrt m\n",
        "    D_c = (-2/n) * sum(Y - Y_pred)  # Derivative wrt c\n",
        "    m = m - L * D_m  # Update m\n",
        "    c = c - L * D_c  # Update c\n",
        "    \n",
        "print (m, c)"
      ],
      "execution_count": 15,
      "outputs": [
        {
          "output_type": "stream",
          "text": [
            "17.75678189654591 -10.92790399022634\n"
          ],
          "name": "stdout"
        }
      ]
    },
    {
      "cell_type": "code",
      "metadata": {
        "colab": {
          "base_uri": "https://localhost:8080/",
          "height": 265
        },
        "id": "xPRvqlvx-6U0",
        "outputId": "7752af1d-dc26-46d3-db4e-97b9eb67cadb"
      },
      "source": [
        "# Making predictions\n",
        "Y_pred = m*X + c\n",
        "\n",
        "plt.scatter(X, Y) \n",
        "plt.plot([min(X), max(X)], [min(Y_pred), max(Y_pred)], color='red')  # regression line\n",
        "plt.show()"
      ],
      "execution_count": 16,
      "outputs": [
        {
          "output_type": "display_data",
          "data": {
            "image/png": "[encoded data removed]",
            "text/plain": [
              "<Figure size 432x288 with 1 Axes>"
            ]
          },
          "metadata": {
            "needs_background": "light"
          }
        }
      ]
    },
    {
      "cell_type": "code",
      "metadata": {
        "id": "8PQVxzS42Jws"
      },
      "source": [
        "from sklearn.linear_model import Lasso, Ridge\n",
        "from sklearn.model_selection import train_test_split"
      ],
      "execution_count": 17,
      "outputs": []
    },
    {
      "cell_type": "code",
      "metadata": {
        "id": "33rDqUgx2VQ9",
        "colab": {
          "base_uri": "https://localhost:8080/"
        },
        "outputId": "3408dd23-59bc-43a7-bb3f-c25a05b38dfa"
      },
      "source": [
        "X = data[['Length1']][0:400]\n",
        "Y = data['Weight'][0:400]\n",
        "x_train,x_test,y_train,y_test= train_test_split(X,Y,test_size=0.4, random_state=42)\n",
        "model_lasso=Lasso(alpha=0.01)\n",
        "model_lasso.fit(x_train, y_train)\n",
        "predictions= model_lasso.predict(x_test)\n",
        "print(\"R2 Lasso\", r2_score(y_test, predictions))"
      ],
      "execution_count": 18,
      "outputs": [
        {
          "output_type": "stream",
          "text": [
            "R2 Lasso 0.8010117994174193\n"
          ],
          "name": "stdout"
        }
      ]
    },
    {
      "cell_type": "code",
      "metadata": {
        "id": "uyCLsukv3joz",
        "colab": {
          "base_uri": "https://localhost:8080/"
        },
        "outputId": "9c098e2b-4b12-48ef-9c7f-44334cd82b80"
      },
      "source": [
        "model_ridge=Ridge(alpha=0.01)\n",
        "model_ridge.fit(x_train, y_train)\n",
        "predictions= model_ridge.predict(x_test)\n",
        "print(\"R2 ridge\", r2_score(y_test, predictions))"
      ],
      "execution_count": 19,
      "outputs": [
        {
          "output_type": "stream",
          "text": [
            "R2 ridge 0.8010115229315475\n"
          ],
          "name": "stdout"
        }
      ]
    }
  ]
}