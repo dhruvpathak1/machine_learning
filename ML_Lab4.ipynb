{
  "nbformat": 4,
  "nbformat_minor": 0,
  "metadata": {
    "colab": {
      "name": "ML_Lab4.ipynb",
      "provenance": [],
      "collapsed_sections": [],
      "authorship_tag": "ABX9TyOKDha8+xA+CI1ITK5oM5bQ",
      "include_colab_link": true
    },
    "kernelspec": {
      "name": "python3",
      "display_name": "Python 3"
    },
    "language_info": {
      "name": "python"
    }
  },
  "cells": [
    {
      "cell_type": "markdown",
      "metadata": {
        "id": "view-in-github",
        "colab_type": "text"
      },
      "source": [
        "<a href=\"https://colab.research.google.com/github/dhruvpathak1/machine_learning/blob/main/ML_Lab4.ipynb\" target=\"_parent\"><img src=\"https://colab.research.google.com/assets/colab-badge.svg\" alt=\"Open In Colab\"/></a>"
      ]
    },
    {
      "cell_type": "code",
      "metadata": {
        "id": "hke-ErPLyXaM"
      },
      "source": [
        "import numpy as np\n",
        "import matplotlib\n",
        "import sklearn\n",
        "import matplotlib.pyplot as plt\n",
        "import pandas as pd\n",
        "from sklearn import datasets\n",
        "\n",
        "data = pd.read_csv(\"https://raw.githubusercontent.com/dhruvpathak1/machine_learning/main/summary_of_weather.csv\")"
      ],
      "execution_count": 3,
      "outputs": []
    },
    {
      "cell_type": "code",
      "metadata": {
        "colab": {
          "base_uri": "https://localhost:8080/"
        },
        "id": "DnLzFe7ZzhoX",
        "outputId": "9f389de5-5231-42db-9d68-8546e4863f94"
      },
      "source": [
        "data.shape"
      ],
      "execution_count": 4,
      "outputs": [
        {
          "output_type": "execute_result",
          "data": {
            "text/plain": [
              "(821, 23)"
            ]
          },
          "metadata": {
            "tags": []
          },
          "execution_count": 4
        }
      ]
    },
    {
      "cell_type": "code",
      "metadata": {
        "colab": {
          "base_uri": "https://localhost:8080/"
        },
        "id": "oiRL3xNGzp9L",
        "outputId": "7687026d-5e50-48a2-98f5-d28b5a557b19"
      },
      "source": [
        "data.info()"
      ],
      "execution_count": 5,
      "outputs": [
        {
          "output_type": "stream",
          "text": [
            "<class 'pandas.core.frame.DataFrame'>\n",
            "RangeIndex: 821 entries, 0 to 820\n",
            "Data columns (total 23 columns):\n",
            " #   Column       Non-Null Count  Dtype  \n",
            "---  ------       --------------  -----  \n",
            " 0   PoorWeather  189 non-null    float64\n",
            " 1   YR           821 non-null    int64  \n",
            " 2   MO           821 non-null    int64  \n",
            " 3   DA           821 non-null    int64  \n",
            " 4   PRCP         821 non-null    object \n",
            " 5   DR           0 non-null      float64\n",
            " 6   SPD          0 non-null      float64\n",
            " 7   MAX          821 non-null    int64  \n",
            " 8   MIN          821 non-null    int64  \n",
            " 9   MEA          821 non-null    int64  \n",
            " 10  SNF          821 non-null    int64  \n",
            " 11  SND          0 non-null      float64\n",
            " 12  FT           0 non-null      float64\n",
            " 13  FB           0 non-null      float64\n",
            " 14  FTI          0 non-null      float64\n",
            " 15  ITH          0 non-null      float64\n",
            " 16  PGT          0 non-null      float64\n",
            " 17  TSHDSBRSGF   189 non-null    float64\n",
            " 18  SD3          0 non-null      float64\n",
            " 19  RHX          0 non-null      float64\n",
            " 20  RHN          0 non-null      float64\n",
            " 21  RVG          0 non-null      float64\n",
            " 22  WTE          0 non-null      float64\n",
            "dtypes: float64(15), int64(7), object(1)\n",
            "memory usage: 147.6+ KB\n"
          ],
          "name": "stdout"
        }
      ]
    },
    {
      "cell_type": "code",
      "metadata": {
        "colab": {
          "base_uri": "https://localhost:8080/"
        },
        "id": "Xo6YL9L8zvKO",
        "outputId": "5ca5ce5c-ad5e-48c8-b18c-254e8a536d7b"
      },
      "source": [
        "from sklearn.linear_model import LinearRegression\n",
        "lm = LinearRegression()\n",
        "lm"
      ],
      "execution_count": 6,
      "outputs": [
        {
          "output_type": "execute_result",
          "data": {
            "text/plain": [
              "LinearRegression(copy_X=True, fit_intercept=True, n_jobs=None, normalize=False)"
            ]
          },
          "metadata": {
            "tags": []
          },
          "execution_count": 6
        }
      ]
    },
    {
      "cell_type": "code",
      "metadata": {
        "colab": {
          "base_uri": "https://localhost:8080/"
        },
        "id": "3HY9n7SPz4Zg",
        "outputId": "28cbe1ba-dd60-40f9-af39-1aac88ba2b8a"
      },
      "source": [
        "X = data[['MIN']]\n",
        "Y = data['MAX']\n",
        "# fit the linear model using MIN\n",
        "lm.fit(X,Y)\n",
        "# training data is passed to fit method"
      ],
      "execution_count": 7,
      "outputs": [
        {
          "output_type": "execute_result",
          "data": {
            "text/plain": [
              "LinearRegression(copy_X=True, fit_intercept=True, n_jobs=None, normalize=False)"
            ]
          },
          "metadata": {
            "tags": []
          },
          "execution_count": 7
        }
      ]
    },
    {
      "cell_type": "code",
      "metadata": {
        "colab": {
          "base_uri": "https://localhost:8080/"
        },
        "id": "38djvYcX0IgZ",
        "outputId": "70bd81e4-faff-4fb0-cefe-c273e9011eb7"
      },
      "source": [
        "Yhat=lm.predict(X)\n",
        "Yhat[0:10]"
      ],
      "execution_count": 8,
      "outputs": [
        {
          "output_type": "execute_result",
          "data": {
            "text/plain": [
              "array([86.15332371, 85.16045518, 86.15332371, 86.15332371, 85.16045518,\n",
              "       85.16045518, 87.14619224, 86.15332371, 87.14619224, 85.16045518])"
            ]
          },
          "metadata": {
            "tags": []
          },
          "execution_count": 8
        }
      ]
    },
    {
      "cell_type": "code",
      "metadata": {
        "colab": {
          "base_uri": "https://localhost:8080/",
          "height": 279
        },
        "id": "NtZkIAc-0MnJ",
        "outputId": "09976653-9198-464f-a593-a0c84bb747b0"
      },
      "source": [
        "# plot regression model\n",
        "plt.scatter(data['MIN'],Y)\n",
        "# X,Y\n",
        "plt.plot(data['MIN'],Yhat,color='red')\n",
        "plt.xlabel('MIN')\n",
        "plt.ylabel('MAX')\n",
        "plt.show()"
      ],
      "execution_count": 9,
      "outputs": [
        {
          "output_type": "display_data",
          "data": {
            "image/png": "[encoded data removed]",
            "text/plain": [
              "<Figure size 432x288 with 1 Axes>"
            ]
          },
          "metadata": {
            "tags": [],
            "needs_background": "light"
          }
        }
      ]
    },
    {
      "cell_type": "code",
      "metadata": {
        "colab": {
          "base_uri": "https://localhost:8080/"
        },
        "id": "nvHZkTkX0X-k",
        "outputId": "1e4b3e44-711d-4088-f9eb-c5646711f457"
      },
      "source": [
        "print(lm.intercept_)\n",
        "print(lm.coef_)"
      ],
      "execution_count": 10,
      "outputs": [
        {
          "output_type": "stream",
          "text": [
            "14.666789713361737\n",
            "[0.99286853]\n"
          ],
          "name": "stdout"
        }
      ]
    },
    {
      "cell_type": "code",
      "metadata": {
        "colab": {
          "base_uri": "https://localhost:8080/"
        },
        "id": "H8o4sBKd49Dw",
        "outputId": "2e3f1f32-db5a-44ea-b88c-a8ec78b8f1a9"
      },
      "source": [
        "from sklearn.metrics import mean_squared_error, r2_score\n",
        "\n",
        "# model evaluation\n",
        "rmse = mean_squared_error(Y, Yhat)\n",
        "r2 = r2_score(Y, Yhat)\n",
        "\n",
        "print('Root mean squared error: ', rmse)\n",
        "print('R2 score: ', r2)"
      ],
      "execution_count": 11,
      "outputs": [
        {
          "output_type": "stream",
          "text": [
            "Root mean squared error:  14.024860190910182\n",
            "R2 score:  0.2981812008572319\n"
          ],
          "name": "stdout"
        }
      ]
    },
    {
      "cell_type": "code",
      "metadata": {
        "id": "-bzlHeOr-y2d"
      },
      "source": [
        "X=X.iloc[:,0] "
      ],
      "execution_count": 16,
      "outputs": []
    },
    {
      "cell_type": "code",
      "metadata": {
        "colab": {
          "base_uri": "https://localhost:8080/"
        },
        "id": "DxrLkErI1ohp",
        "outputId": "67e3158a-d412-41ec-9d50-94e9daac6264"
      },
      "source": [
        "# Building the model\n",
        "m = 0\n",
        "c = 0\n",
        "\n",
        "L = 0.0001  # The learning Rate\n",
        "epochs = 1000  # The number of iterations to perform gradient descent\n",
        "\n",
        "n = float(len(X)) # Number of elements in X\n",
        "\n",
        "# Performing Gradient Descent \n",
        "for i in range(epochs): \n",
        "    Y_pred = m*X + c  # The current predicted value of Y\n",
        "    D_m = (-2/n) * sum(X * (Y - Y_pred))  # Derivative wrt m\n",
        "    D_c = (-2/n) * sum(Y - Y_pred)  # Derivative wrt c\n",
        "    m = m - L * D_m  # Update m\n",
        "    c = c - L * D_c  # Update c\n",
        "    \n",
        "print (m, c)"
      ],
      "execution_count": 17,
      "outputs": [
        {
          "output_type": "stream",
          "text": [
            "1.1961174307484614 0.020012222669674614\n"
          ],
          "name": "stdout"
        }
      ]
    },
    {
      "cell_type": "code",
      "metadata": {
        "colab": {
          "base_uri": "https://localhost:8080/",
          "height": 265
        },
        "id": "xPRvqlvx-6U0",
        "outputId": "da50beda-85ff-483d-8a0f-835b143c2426"
      },
      "source": [
        "# Making predictions\n",
        "Y_pred = m*X + c\n",
        "\n",
        "plt.scatter(X, Y) \n",
        "plt.plot([min(X), max(X)], [min(Y_pred), max(Y_pred)], color='red')  # regression line\n",
        "plt.show()"
      ],
      "execution_count": 18,
      "outputs": [
        {
          "output_type": "display_data",
          "data": {
            "image/png": "[encoded data removed]",
            "text/plain": [
              "<Figure size 432x288 with 1 Axes>"
            ]
          },
          "metadata": {
            "tags": [],
            "needs_background": "light"
          }
        }
      ]
    }
  ]
}